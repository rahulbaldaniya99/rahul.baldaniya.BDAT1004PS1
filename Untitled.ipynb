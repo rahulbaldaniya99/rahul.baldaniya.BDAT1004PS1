{
 "cells": [
  {
   "cell_type": "markdown",
   "id": "d84a54b2",
   "metadata": {},
   "source": [
    "#### 1) What data type is each of the following (evaluate where necessary)?\n",
    "\n",
    "5\n",
    "5.0\n",
    "5 > 1\n",
    "'5'\n",
    "5 * 2\n",
    "'5' * 2\n",
    "'5' + '2'\n",
    "5 / 2\n",
    "5 % 2\n",
    "{5, 2, 1}\n",
    "5 == 3\n",
    "Pi (the number)"
   ]
  },
  {
   "cell_type": "code",
   "execution_count": 1,
   "id": "40a8cdf2",
   "metadata": {},
   "outputs": [
    {
     "name": "stdout",
     "output_type": "stream",
     "text": [
      "<class 'int'>\n",
      "<class 'float'>\n",
      "<class 'bool'>\n",
      "<class 'str'>\n",
      "<class 'int'>\n",
      "<class 'str'>\n",
      "<class 'float'>\n",
      "<class 'int'>\n",
      "<class 'set'>\n",
      "<class 'bool'>\n"
     ]
    },
    {
     "ename": "TypeError",
     "evalue": "'float' object is not callable",
     "output_type": "error",
     "traceback": [
      "\u001b[0;31m---------------------------------------------------------------------------\u001b[0m",
      "\u001b[0;31mTypeError\u001b[0m                                 Traceback (most recent call last)",
      "Cell \u001b[0;32mIn[1], line 13\u001b[0m\n\u001b[1;32m     11\u001b[0m \u001b[38;5;28mprint\u001b[39m(\u001b[38;5;28mtype\u001b[39m({\u001b[38;5;241m5\u001b[39m, \u001b[38;5;241m2\u001b[39m, \u001b[38;5;241m1\u001b[39m}))          \u001b[38;5;66;03m#list\u001b[39;00m\n\u001b[1;32m     12\u001b[0m \u001b[38;5;28mprint\u001b[39m(\u001b[38;5;28mtype\u001b[39m(\u001b[38;5;241m5\u001b[39m \u001b[38;5;241m==\u001b[39m \u001b[38;5;241m3\u001b[39m))             \u001b[38;5;66;03m#bollean\u001b[39;00m\n\u001b[0;32m---> 13\u001b[0m \u001b[38;5;28mprint\u001b[39m(\u001b[38;5;28mtype\u001b[39m(math\u001b[38;5;241m.\u001b[39mpi(\u001b[38;5;241m2\u001b[39m)))\n",
      "\u001b[0;31mTypeError\u001b[0m: 'float' object is not callable"
     ]
    }
   ],
   "source": [
    "import math\n",
    "\n",
    "print(type(5))                  #integer\n",
    "print(type(5.0))                #float\n",
    "print(type(5 > 1))              #bollean\n",
    "print(type('5'))                #string\n",
    "print(type(5 * 2))              #integer\n",
    "print(type('5' * 2))            #string\n",
    "print(type(5 / 2))              #float\n",
    "print(type(5 % 2))              #integer\n",
    "print(type({5, 2, 1}))          #list\n",
    "print(type(5 == 3))             #bollean\n",
    "print(type(math.pi(2)))         #float"
   ]
  },
  {
   "cell_type": "markdown",
   "id": "8a16b2fc",
   "metadata": {},
   "source": [
    "#### 2A) How many letters are there in 'Supercalifragilisticexpialidocious'?"
   ]
  },
  {
   "cell_type": "code",
   "execution_count": 2,
   "id": "a3e92669",
   "metadata": {},
   "outputs": [
    {
     "name": "stdout",
     "output_type": "stream",
     "text": [
      "34\n"
     ]
    }
   ],
   "source": [
    "A = 'Supercalifragilisticexpialidocious'\n",
    "print(len(A))"
   ]
  },
  {
   "cell_type": "markdown",
   "id": "951f6f9f",
   "metadata": {},
   "source": [
    "#### 2B) Does 'Supercalifragilisticexpialidocious' contain 'ice' as a substring?"
   ]
  },
  {
   "cell_type": "code",
   "execution_count": 3,
   "id": "7c77d255",
   "metadata": {},
   "outputs": [
    {
     "name": "stdout",
     "output_type": "stream",
     "text": [
      "Yes ice is the substring of the given word\n"
     ]
    }
   ],
   "source": [
    "for word in ['Supercalifragilisticexpialidocious']:\n",
    "    if 'ice' in word :\n",
    "        print('Yes ice is the substring of the given word')\n",
    "    else:\n",
    "        print('ice is not the substring of the given word')"
   ]
  },
  {
   "cell_type": "markdown",
   "id": "76eb7b9c",
   "metadata": {},
   "source": [
    "#### 2C) Which of the following words is the longest: Supercalifragilisticexpialidocious, Honorificabilitudinitatibus, or Bababadalgharaghtakamminarronnkonn"
   ]
  },
  {
   "cell_type": "code",
   "execution_count": 4,
   "id": "1e31c0c4",
   "metadata": {},
   "outputs": [
    {
     "name": "stdout",
     "output_type": "stream",
     "text": [
      "The word with the longest length is: Supercalifragilisticexpialidocious  and length is  34\n"
     ]
    }
   ],
   "source": [
    "def maxlength(a):\n",
    "    A = len(a[0])\n",
    "    B = a[0]\n",
    "    \n",
    "    for i in a:\n",
    "        if(len(i) > A):\n",
    "            \n",
    "            A = len(i)\n",
    "            B = i\n",
    "    \n",
    "            \n",
    "    print(\"The word with the longest length is:\", B,\n",
    "           \" and length is \", A)\n",
    "            \n",
    "        \n",
    "a = ['Supercalifragilisticexpialidocious', 'Honorificabilitudinitatibus', 'Bababadalgharaghtakamminarronnkon']\n",
    "maxlength(a)"
   ]
  },
  {
   "cell_type": "markdown",
   "id": "62cdbf5d",
   "metadata": {},
   "source": [
    "#### 2D) Which composer comes first in the dictionary: 'Berlioz', 'Borodin', 'Brian','Bartok', 'Bellini', 'Buxtehude', 'Bernstein'. Which one comes last"
   ]
  },
  {
   "cell_type": "code",
   "execution_count": 5,
   "id": "4e07354c",
   "metadata": {},
   "outputs": [
    {
     "name": "stdout",
     "output_type": "stream",
     "text": [
      "First word is  Bartok\n",
      "First word is  Buxtehude\n"
     ]
    }
   ],
   "source": [
    "A = ['Berlioz', 'Borodin', 'Brian','Bartok', 'Bellini', 'Buxtehude', 'Bernstein']\n",
    "\n",
    "print('First word is ', min(A))\n",
    "print('First word is ', max(A))"
   ]
  },
  {
   "cell_type": "markdown",
   "id": "e932e557",
   "metadata": {},
   "source": [
    "#### 3) Implement function triangleArea(a,b,c) that takes as input the lengths of the 3sides of a triangle and returns the area of the triangle. By Heron's formula, the areaof a triangle with side lengths a, b, and c is     s(s - a)(s - b)(s - c) , wheres = (a + b + c) /2."
   ]
  },
  {
   "cell_type": "code",
   "execution_count": 6,
   "id": "022ca8be",
   "metadata": {},
   "outputs": [
    {
     "name": "stdout",
     "output_type": "stream",
     "text": [
      "Please enter first side of triangle: 2\n",
      "Please enter second side of triangle: 2\n",
      "Please enter third side of triangle: 2\n",
      "1.7320508075688772\n"
     ]
    }
   ],
   "source": [
    "def trianglearea(a,b,c):\n",
    "    import math\n",
    "    \n",
    "    #a = input('Please enter first side of triangle')\n",
    "    #b = input('Please enter second side of triangle')\n",
    "    #c = input('Please enter third side of triangle')\n",
    "    \n",
    "    s = (a + b + c)/2\n",
    "    \n",
    "    area = math.sqrt(s*(s-a)*(s-b)*(s-c))\n",
    "        \n",
    "    print(area)\n",
    "    \n",
    "    \n",
    "a = float(input('Please enter first side of triangle: '))\n",
    "b = float(input('Please enter second side of triangle: '))\n",
    "c = float(input('Please enter third side of triangle: '))\n",
    "\n",
    "trianglearea(a,b,c)"
   ]
  },
  {
   "cell_type": "markdown",
   "id": "7d13adf6",
   "metadata": {},
   "source": [
    "#### 4) Write a program in python to separate odd and even integers in separate arrays. Goto the editorTest Data :Input the number of elements to be stored in the array, Input 5 elements in the array :element - 0 : 25, element - 1 : 47, element - 2 : 42, element - 3 : 56, element - 4 : 32"
   ]
  },
  {
   "cell_type": "code",
   "execution_count": 7,
   "id": "8ad78ec8",
   "metadata": {},
   "outputs": [
    {
     "name": "stdout",
     "output_type": "stream",
     "text": [
      "These are the even numbers [42, 56, 32]\n",
      "These are the odd numbers [25, 47]\n"
     ]
    }
   ],
   "source": [
    "A = [25, 47, 42, 56, 32]\n",
    "even = []\n",
    "odd = []\n",
    "\n",
    "for i in A:\n",
    "    if(i%2==0):\n",
    "        even.append(i)\n",
    "    \n",
    "    else:\n",
    "        odd.append(i)\n",
    "        \n",
    "print(\"These are the even numbers\", even)\n",
    "print(\"These are the odd numbers\", odd)"
   ]
  },
  {
   "cell_type": "markdown",
   "id": "cf8ea7dd",
   "metadata": {},
   "source": [
    "#### 5A) Write a function inside(x,y,x1,y1,x2,y2) that returns True or False depending on whether the point (x,y) lies in the rectangle with lower leftcorner (x1,y1) and upper right corner (x2,y2)."
   ]
  },
  {
   "cell_type": "code",
   "execution_count": 8,
   "id": "b94647c8",
   "metadata": {},
   "outputs": [
    {
     "name": "stdout",
     "output_type": "stream",
     "text": [
      "True\n",
      "False\n"
     ]
    }
   ],
   "source": [
    "def inside(x, y, x1, y1, x2, y2):\n",
    "    return x1 <= x <= x2  and y1 <= y <= y2\n",
    "\n",
    "\n",
    "print(inside(1, 1, 0, 0, 2, 3))  # True\n",
    "print(inside(-1, -1, 0, 0, 2, 3))  # False"
   ]
  },
  {
   "cell_type": "markdown",
   "id": "77671840",
   "metadata": {},
   "source": [
    "#### 5B) Use function inside() from part a. to write an expression that tests whether the point (1,1) lies in both of the following rectangles: one with lower leftcorner (0.3, 0.5) and upper right corner (1.1, 0.7) and the other with lowerleft corner (0.5, 0.2) and upper right corner (1.1, 2)"
   ]
  },
  {
   "cell_type": "code",
   "execution_count": 9,
   "id": "20c57873",
   "metadata": {},
   "outputs": [
    {
     "name": "stdout",
     "output_type": "stream",
     "text": [
      "False\n",
      "True\n"
     ]
    }
   ],
   "source": [
    "def inside(x, y, x1, y1, x2, y2):\n",
    "    return x1 <= x <= x2  and y1 <= y <= y2\n",
    "\n",
    "\n",
    "print(inside(1, 1, 0.3, 0.5, 1.1, 0.7))  # False\n",
    "print(inside(1, 1, 0.5, 0.2, 1.1, 2))  # True"
   ]
  },
  {
   "cell_type": "markdown",
   "id": "24c15f18",
   "metadata": {},
   "source": [
    "#### 6) You can turn a word into pig-Latin using the following two rules (simplified):\n",
    "• If the word starts with a consonant, move that letter to the end and append'ay'. For example, 'happy' becomes 'appyhay' and 'pencil' becomes 'encilpay'.\n",
    "\n",
    "• If the word starts with a vowel, simply append 'way' to the end of the word. For example, 'enter' becomes 'enterway' and 'other' becomes 'otherway' . Forour purposes, there are 5 vowels: a, e, i, o, u (so we count y as a consonant).\n",
    "\n",
    "Write a function pig() that takes a word (i.e., a string) as input and returns its pig-Latin form. Your function should still work if the input word contains upper casecharacters. Your output should always be lower case however"
   ]
  },
  {
   "cell_type": "code",
   "execution_count": 17,
   "id": "6ddaf710",
   "metadata": {},
   "outputs": [
    {
     "name": "stdout",
     "output_type": "stream",
     "text": [
      "Enter a word: rahul\n",
      "ahulray\n",
      "N o n e\n"
     ]
    }
   ],
   "source": [
    "def pig(english_word):\n",
    "    word_split = english_word.lower().split()\n",
    "    X = []\n",
    "    vowels = ['a', 'e', 'i', 'o', 'u']\n",
    "\n",
    "    for word in word_split:\n",
    "        if word[0] in vowels:\n",
    "            X = str(print(word + \"way\"))\n",
    "            break\n",
    "        else:\n",
    "            for i in range(len(word)):\n",
    "                if word[i] in vowels:\n",
    "                    X = str(print(word[i:] + word[:i] + \"ay\"))\n",
    "                    break\n",
    "\n",
    "    pig_latin = ' '.join(X)\n",
    "    return pig_latin\n",
    "\n",
    "# Input \n",
    "english_word = input('Enter a word: ')\n",
    "pig_latin = pig(english_word)\n",
    "print(pig_latin)"
   ]
  },
  {
   "cell_type": "markdown",
   "id": "1bccb737",
   "metadata": {},
   "source": [
    "#### 7) File bloodtype1.txt records blood-types of patients (A, B, AB, O or OO) at a clinic. Write a function bldcount() that reads the file with name name and reports (i.e.,prints) how many patients there are in each bloodtype."
   ]
  },
  {
   "cell_type": "code",
   "execution_count": 16,
   "id": "60f8c3da",
   "metadata": {},
   "outputs": [
    {
     "ename": "SyntaxError",
     "evalue": "expected 'except' or 'finally' block (2220200519.py, line 20)",
     "output_type": "error",
     "traceback": [
      "\u001b[0;36m  Cell \u001b[0;32mIn[16], line 20\u001b[0;36m\u001b[0m\n\u001b[0;31m    bldcount(\"/Users/rahulbaldaniya/Downloads/bloodtype1.txt\")\u001b[0m\n\u001b[0m                                                              ^\u001b[0m\n\u001b[0;31mSyntaxError\u001b[0m\u001b[0;31m:\u001b[0m expected 'except' or 'finally' block\n"
     ]
    }
   ],
   "source": [
    "def bldcount(filename):\n",
    "    blood_type_counts = {\n",
    "        'A': 0,\n",
    "        'B': 0,\n",
    "        'AB': 0,\n",
    "        'O': 0,\n",
    "        'OO': 0\n",
    "    }\n",
    "\n",
    "    try:\n",
    "        with open(filename, 'r') as file:\n",
    "            for line in file:\n",
    "                if blood_type in blood_type_counts:\n",
    "                    blood_type_counts[blood_type] += 1\n",
    "                else:\n",
    "                    print(\"Invalid blood type\")\n",
    "                    break\n",
    "                    \n",
    "                    \n",
    "bldcount(\"/Users/rahulbaldaniya/Downloads/bloodtype1.txt\")\n",
    "\n",
    "\n",
    "## Professor not getting this code logic "
   ]
  },
  {
   "cell_type": "markdown",
   "id": "aaf4ad3d",
   "metadata": {},
   "source": [
    "#### 8) Write a function curconv() that takes as input:\n",
    "1. A currency represented using a string (e.g., 'JPY' for the Japanese Yen or'EUR' for the Euro)\n",
    "2. an amount and then converts and returns the amount in US dollars.\n",
    "The currency rates you will need are stored in file currencies.txt as per the conversion."
   ]
  },
  {
   "cell_type": "code",
   "execution_count": 14,
   "id": "d2eebc2c",
   "metadata": {},
   "outputs": [
    {
     "ename": "NameError",
     "evalue": "name 'EUR' is not defined",
     "output_type": "error",
     "traceback": [
      "\u001b[0;31m---------------------------------------------------------------------------\u001b[0m",
      "\u001b[0;31mNameError\u001b[0m                                 Traceback (most recent call last)",
      "Cell \u001b[0;32mIn[14], line 19\u001b[0m\n\u001b[1;32m     15\u001b[0m     \u001b[38;5;66;03m#break\u001b[39;00m\n\u001b[1;32m     16\u001b[0m     \u001b[38;5;28mprint\u001b[39m(next_word\u001b[38;5;241m*\u001b[39my)\n\u001b[0;32m---> 19\u001b[0m curconv(EUR,\u001b[38;5;241m100\u001b[39m)\n",
      "\u001b[0;31mNameError\u001b[0m: name 'EUR' is not defined"
     ]
    }
   ],
   "source": [
    "def curconv(x,y):\n",
    "\n",
    "    file1 = open(\"myfile.txt\", \"w\")\n",
    "    file1.writelines([\"AUD 1.0345157 Australian Dollar /n\", \"CHF 1.0237414 Swiss Franc /n\", \"CNY 0.1550176 Chinese Yuan /n\", \"DKK 0.1651442 Danish Krone /n\", \"EUR 1.2296544 Euro /n\", \"GBP 1.5550989 British Pound /n\", \"HKD 0.1270207 Hong Kong Dollar /n\", \"INR 0.0177643 Indian Rupee /n\", \"JPY 0.01241401 Japanese Yen /n\", \"MXN 0.0751848 Mexican Peso /n\", \"MYR 0.3145411 Malaysian Ringgit /n\", \"NOK 0.1677063 Norwegian Krone /n\", \"NZD 0.8003591 New Zealand Dollar /n\", \"PHP 0.0233234 Philippine Peso /n\", \"SEK 0.148269 Swedish Krona /n\", \"SGD 0.788871 Singapore Dollar /n\", \"THB 0.0313789 Thai Baht /n\" ])\n",
    "    file1.close()\n",
    "\n",
    "    file = open('myfile.txt', 'r')\n",
    "    file_read = file.readlines()\n",
    "    file1 = file_read.split()\n",
    "    \n",
    "    if x in file_read:\n",
    "        index = words.index(x)\n",
    "        next_word = words[index +1]\n",
    "                \n",
    "    #break\n",
    "    print(next_word*y)\n",
    "\n",
    "\n",
    "curconv(EUR,100)\n",
    "\n",
    "## Profesor not getting this code as well finding difficulty in the logic I guess.\n",
    "\n"
   ]
  },
  {
   "cell_type": "markdown",
   "id": "597ead49",
   "metadata": {},
   "source": [
    "#### 9) Each of the following will cause an exception (an error). Identify what type ofexception each will cause\n",
    "- A = 6 + 'a'\n",
    "#TypeError: unsupported operand type(s) for +: 'int' and 'str'\n",
    "\n",
    "- Referring to the 12th item of a list that has only 10 item\n",
    "#Index error\n",
    "\n",
    "- math.sqrt(-1.0)\n",
    "#ValueError: math domain error\n",
    "\n",
    "- Using an undeclared variable, such as print(x), when x has not been defined\n",
    "#NameError: name 'x' is not defined\n",
    "\n",
    "- Trying to open a file that does not exist, such asmistyping the file name or looking in the wrong directory\n",
    "#No such file or directory found"
   ]
  },
  {
   "cell_type": "markdown",
   "id": "d697d155",
   "metadata": {},
   "source": [
    "#### 10) Encryption is the process of hiding the meaning of a text by substituting letters in the message with other letters, according to some system. If the process is successful, noone but the intended recipient can understand the encrypted message. Cryptanalysisrefers to attempts to undo the encryption, even if some details of the encryption areunknown (for example, if an encrypted message has been intercepted). The first step of cryptanalysis is often to build up a table of letter frequencies in the encrypted text. \n",
    "Assume that the string letters is already defined as 'abcdefghijklmnopqrstuvwxyz'. Write a function called frequencies() that takes a string as its only parameter, and returns a list of integers, showing thenumber of times each character appears in the text. Your function may ignore anycharacters that are not in letters"
   ]
  },
  {
   "cell_type": "code",
   "execution_count": 12,
   "id": "0ef3d655",
   "metadata": {},
   "outputs": [
    {
     "name": "stdout",
     "output_type": "stream",
     "text": [
      "Letter a: 1\n",
      "Letter b: 0\n",
      "Letter c: 0\n",
      "Letter d: 0\n",
      "Letter e: 1\n",
      "Letter f: 0\n",
      "Letter g: 0\n",
      "Letter h: 0\n",
      "Letter i: 0\n",
      "Letter j: 0\n",
      "Letter k: 0\n",
      "Letter l: 1\n",
      "Letter m: 0\n",
      "Letter n: 0\n",
      "Letter o: 0\n",
      "Letter p: 2\n",
      "Letter q: 0\n",
      "Letter r: 0\n",
      "Letter s: 0\n",
      "Letter t: 0\n",
      "Letter u: 0\n",
      "Letter v: 0\n",
      "Letter w: 0\n",
      "Letter x: 0\n",
      "Letter y: 0\n",
      "Letter z: 0\n"
     ]
    }
   ],
   "source": [
    "def frequencies(word):\n",
    "    word = word.lower()\n",
    "\n",
    "    Alphabet = ['a', 'b', 'c', 'd', 'e', 'f', 'g', 'h', 'i', 'j', 'k', 'l', 'm', 'n', 'o', 'p', 'q', 'r', 's', 't', 'u', 'v', 'w', 'x', 'y', 'z']\n",
    "\n",
    "    for letter in Alphabet:\n",
    "        count = word.count(letter)\n",
    "        print(f\"Letter {letter}: {count}\") #For ref have used f-string \n",
    "\n",
    "frequencies('01apple01')"
   ]
  },
  {
   "cell_type": "code",
   "execution_count": null,
   "id": "a5d813b9",
   "metadata": {},
   "outputs": [],
   "source": []
  }
 ],
 "metadata": {
  "kernelspec": {
   "display_name": "Python 3 (ipykernel)",
   "language": "python",
   "name": "python3"
  },
  "language_info": {
   "codemirror_mode": {
    "name": "ipython",
    "version": 3
   },
   "file_extension": ".py",
   "mimetype": "text/x-python",
   "name": "python",
   "nbconvert_exporter": "python",
   "pygments_lexer": "ipython3",
   "version": "3.11.4"
  }
 },
 "nbformat": 4,
 "nbformat_minor": 5
}
